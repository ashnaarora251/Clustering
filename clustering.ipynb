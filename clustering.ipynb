{
  "cells": [
    {
      "cell_type": "code",
      "execution_count": 91,
      "metadata": {
        "id": "vov6jHxTQ48K"
      },
      "outputs": [],
      "source": [
        "import numpy as np\n",
        "import pandas as pd\n",
        "from sklearn.datasets import load_wine\n",
        "from sklearn.preprocessing import StandardScaler, MinMaxScaler\n",
        "from sklearn.decomposition import PCA\n",
        "from sklearn.cluster import KMeans\n",
        "from sklearn.metrics import silhouette_score, calinski_harabasz_score, davies_bouldin_score\n",
        "from sklearn.cluster import AgglomerativeClustering\n",
        "from sklearn.cluster import SpectralClustering\n",
        "from tabulate import tabulate\n",
        "import warnings\n",
        "warnings.filterwarnings(\"ignore\")"
      ]
    },
    {
      "cell_type": "code",
      "execution_count": 92,
      "metadata": {
        "id": "-9avP1RIQ48L"
      },
      "outputs": [],
      "source": [
        "wine = load_wine()\n",
        "X=wine.data"
      ]
    },
    {
      "cell_type": "markdown",
      "metadata": {
        "id": "cPtDNcQYQ48L"
      },
      "source": [
        "## KMeans"
      ]
    },
    {
      "cell_type": "markdown",
      "metadata": {
        "id": "HzNif8hDQ48M"
      },
      "source": [
        "#### N = 3"
      ]
    },
    {
      "cell_type": "code",
      "execution_count": 93,
      "metadata": {
        "colab": {
          "base_uri": "https://localhost:8080/"
        },
        "id": "q97FdDsJQ48M",
        "outputId": "7ccc5592-270f-4a68-a9ca-ff8c6335aa42"
      },
      "outputs": [
        {
          "output_type": "stream",
          "name": "stdout",
          "text": [
            "┏━━━━━━━━━━━━━━━━━━━━━━━━━━━━━━━━━┳━━━━━━━━━━━━━━━━━━━━┳━━━━━━━━━━━━━━━━━━━━━━━━━━━┳━━━━━━━━━━━━━━━━━━━━━━━━┓\n",
            "┃ Preprocessing Technique         ┃   Silhouette Score ┃   Calinski-Harabasz Score ┃   Davies-Bouldin Score ┃\n",
            "┣━━━━━━━━━━━━━━━━━━━━━━━━━━━━━━━━━╋━━━━━━━━━━━━━━━━━━━━╋━━━━━━━━━━━━━━━━━━━━━━━━━━━╋━━━━━━━━━━━━━━━━━━━━━━━━┫\n",
            "┃ No Preprocessing                ┃           0.571138 ┃                  561.816  ┃               0.534243 ┃\n",
            "┣━━━━━━━━━━━━━━━━━━━━━━━━━━━━━━━━━╋━━━━━━━━━━━━━━━━━━━━╋━━━━━━━━━━━━━━━━━━━━━━━━━━━╋━━━━━━━━━━━━━━━━━━━━━━━━┫\n",
            "┃ Normalization                   ┃           0.299708 ┃                   83.2643 ┃               1.32105  ┃\n",
            "┣━━━━━━━━━━━━━━━━━━━━━━━━━━━━━━━━━╋━━━━━━━━━━━━━━━━━━━━╋━━━━━━━━━━━━━━━━━━━━━━━━━━━╋━━━━━━━━━━━━━━━━━━━━━━━━┫\n",
            "┃ PCA                             ┃           0.572255 ┃                  562.519  ┃               0.532969 ┃\n",
            "┣━━━━━━━━━━━━━━━━━━━━━━━━━━━━━━━━━╋━━━━━━━━━━━━━━━━━━━━╋━━━━━━━━━━━━━━━━━━━━━━━━━━━╋━━━━━━━━━━━━━━━━━━━━━━━━┫\n",
            "┃ Transform + Normalization       ┃           0.470277 ┃                  197.371  ┃               0.825599 ┃\n",
            "┣━━━━━━━━━━━━━━━━━━━━━━━━━━━━━━━━━╋━━━━━━━━━━━━━━━━━━━━╋━━━━━━━━━━━━━━━━━━━━━━━━━━━╋━━━━━━━━━━━━━━━━━━━━━━━━┫\n",
            "┃ Transform + Normalization + PCA ┃           0.568059 ┃                  376.263  ┃               0.584813 ┃\n",
            "┗━━━━━━━━━━━━━━━━━━━━━━━━━━━━━━━━━┻━━━━━━━━━━━━━━━━━━━━┻━━━━━━━━━━━━━━━━━━━━━━━━━━━┻━━━━━━━━━━━━━━━━━━━━━━━━┛\n"
          ]
        }
      ],
      "source": [
        "results_data = []\n",
        "\n",
        "# KMeans clustering with different preprocessing techniques\n",
        "preprocessing_techniques = {\n",
        "    \"No Preprocessing\": X,\n",
        "    \"Normalization\": MinMaxScaler().fit_transform(X),\n",
        "    \"PCA\": PCA(n_components=2).fit_transform(X),\n",
        "    \"Transform + Normalization\": MinMaxScaler().fit_transform(PCA(n_components=2).fit_transform(X)),\n",
        "    \"Transform + Normalization + PCA\": PCA(n_components=2).fit_transform(MinMaxScaler().fit_transform(X))\n",
        "}\n",
        "\n",
        "for technique, data in preprocessing_techniques.items():\n",
        "    # Perform KMeans clustering\n",
        "    clustering = KMeans(n_clusters=3, n_init='auto')\n",
        "    labels = clustering.fit_predict(data)\n",
        "\n",
        "    # Calculate evaluation metrics\n",
        "    silhouette = silhouette_score(data, labels)\n",
        "    calinski_harabasz = calinski_harabasz_score(data, labels)\n",
        "    davies_bouldin = davies_bouldin_score(data, labels)\n",
        "\n",
        "    # Append results to the list\n",
        "    results_data.append([technique, silhouette, calinski_harabasz, davies_bouldin])\n",
        "\n",
        "# Table headers\n",
        "headers = [\"Preprocessing Technique\", \"Silhouette Score\", \"Calinski-Harabasz Score\", \"Davies-Bouldin Score\"]\n",
        "\n",
        "# Display the table\n",
        "print(tabulate(results_data, headers=headers,tablefmt='heavy_grid'))"
      ]
    },
    {
      "cell_type": "markdown",
      "metadata": {
        "id": "BHGjmOtyQ48N"
      },
      "source": [
        "#### N = 4"
      ]
    },
    {
      "cell_type": "code",
      "execution_count": 94,
      "metadata": {
        "colab": {
          "base_uri": "https://localhost:8080/"
        },
        "id": "B5FN92YGQ48N",
        "outputId": "1b3dcc0e-3263-4821-e2dd-52b4b75599f3"
      },
      "outputs": [
        {
          "output_type": "stream",
          "name": "stdout",
          "text": [
            "┏━━━━━━━━━━━━━━━━━━━━━━━━━━━━━━━━━┳━━━━━━━━━━━━━━━━━━━━┳━━━━━━━━━━━━━━━━━━━━━━━━━━━┳━━━━━━━━━━━━━━━━━━━━━━━━┓\n",
            "┃ Preprocessing Technique         ┃   Silhouette Score ┃   Calinski-Harabasz Score ┃   Davies-Bouldin Score ┃\n",
            "┣━━━━━━━━━━━━━━━━━━━━━━━━━━━━━━━━━╋━━━━━━━━━━━━━━━━━━━━╋━━━━━━━━━━━━━━━━━━━━━━━━━━━╋━━━━━━━━━━━━━━━━━━━━━━━━┫\n",
            "┃ No Preprocessing                ┃           0.563108 ┃                  702.973  ┃               0.54676  ┃\n",
            "┣━━━━━━━━━━━━━━━━━━━━━━━━━━━━━━━━━╋━━━━━━━━━━━━━━━━━━━━╋━━━━━━━━━━━━━━━━━━━━━━━━━━━╋━━━━━━━━━━━━━━━━━━━━━━━━┫\n",
            "┃ Normalization                   ┃           0.244663 ┃                   65.5891 ┃               1.67557  ┃\n",
            "┣━━━━━━━━━━━━━━━━━━━━━━━━━━━━━━━━━╋━━━━━━━━━━━━━━━━━━━━╋━━━━━━━━━━━━━━━━━━━━━━━━━━━╋━━━━━━━━━━━━━━━━━━━━━━━━┫\n",
            "┃ PCA                             ┃           0.560205 ┃                  704.218  ┃               0.544438 ┃\n",
            "┣━━━━━━━━━━━━━━━━━━━━━━━━━━━━━━━━━╋━━━━━━━━━━━━━━━━━━━━╋━━━━━━━━━━━━━━━━━━━━━━━━━━━╋━━━━━━━━━━━━━━━━━━━━━━━━┫\n",
            "┃ Transform + Normalization       ┃           0.423433 ┃                  173.557  ┃               0.855827 ┃\n",
            "┣━━━━━━━━━━━━━━━━━━━━━━━━━━━━━━━━━╋━━━━━━━━━━━━━━━━━━━━╋━━━━━━━━━━━━━━━━━━━━━━━━━━━╋━━━━━━━━━━━━━━━━━━━━━━━━┫\n",
            "┃ Transform + Normalization + PCA ┃           0.487642 ┃                  351.343  ┃               0.740177 ┃\n",
            "┗━━━━━━━━━━━━━━━━━━━━━━━━━━━━━━━━━┻━━━━━━━━━━━━━━━━━━━━┻━━━━━━━━━━━━━━━━━━━━━━━━━━━┻━━━━━━━━━━━━━━━━━━━━━━━━┛\n"
          ]
        }
      ],
      "source": [
        "results_data = []\n",
        "\n",
        "# KMeans clustering with different preprocessing techniques\n",
        "preprocessing_techniques = {\n",
        "    \"No Preprocessing\": X,\n",
        "    \"Normalization\": MinMaxScaler().fit_transform(X),\n",
        "    \"PCA\": PCA(n_components=2).fit_transform(X),\n",
        "    \"Transform + Normalization\": MinMaxScaler().fit_transform(PCA(n_components=2).fit_transform(X)),\n",
        "    \"Transform + Normalization + PCA\": PCA(n_components=2).fit_transform(MinMaxScaler().fit_transform(X))\n",
        "}\n",
        "\n",
        "for technique, data in preprocessing_techniques.items():\n",
        "    # Perform KMeans clustering\n",
        "    clustering = KMeans(n_clusters=4, n_init='auto')\n",
        "    labels = clustering.fit_predict(data)\n",
        "\n",
        "    # Calculate evaluation metrics\n",
        "    silhouette = silhouette_score(data, labels)\n",
        "    calinski_harabasz = calinski_harabasz_score(data, labels)\n",
        "    davies_bouldin = davies_bouldin_score(data, labels)\n",
        "\n",
        "    # Append results to the list\n",
        "    results_data.append([technique, silhouette, calinski_harabasz, davies_bouldin])\n",
        "\n",
        "# Table headers\n",
        "headers = [\"Preprocessing Technique\", \"Silhouette Score\", \"Calinski-Harabasz Score\", \"Davies-Bouldin Score\"]\n",
        "\n",
        "# Display the table\n",
        "print(tabulate(results_data, headers=headers,tablefmt='heavy_grid'))"
      ]
    },
    {
      "cell_type": "markdown",
      "metadata": {
        "id": "bG_N1NqGQ48N"
      },
      "source": [
        "#### N = 5"
      ]
    },
    {
      "cell_type": "code",
      "execution_count": 95,
      "metadata": {
        "colab": {
          "base_uri": "https://localhost:8080/"
        },
        "id": "qrocBB9iQ48N",
        "outputId": "3ed1f2e3-8f15-46cc-a437-579135cccbb0"
      },
      "outputs": [
        {
          "output_type": "stream",
          "name": "stdout",
          "text": [
            "┏━━━━━━━━━━━━━━━━━━━━━━━━━━━━━━━━━┳━━━━━━━━━━━━━━━━━━━━┳━━━━━━━━━━━━━━━━━━━━━━━━━━━┳━━━━━━━━━━━━━━━━━━━━━━━━┓\n",
            "┃ Preprocessing Technique         ┃   Silhouette Score ┃   Calinski-Harabasz Score ┃   Davies-Bouldin Score ┃\n",
            "┣━━━━━━━━━━━━━━━━━━━━━━━━━━━━━━━━━╋━━━━━━━━━━━━━━━━━━━━╋━━━━━━━━━━━━━━━━━━━━━━━━━━━╋━━━━━━━━━━━━━━━━━━━━━━━━┫\n",
            "┃ No Preprocessing                ┃           0.548999 ┃                  787.047  ┃               0.545047 ┃\n",
            "┣━━━━━━━━━━━━━━━━━━━━━━━━━━━━━━━━━╋━━━━━━━━━━━━━━━━━━━━╋━━━━━━━━━━━━━━━━━━━━━━━━━━━╋━━━━━━━━━━━━━━━━━━━━━━━━┫\n",
            "┃ Normalization                   ┃           0.25716  ┃                   53.2933 ┃               1.77284  ┃\n",
            "┣━━━━━━━━━━━━━━━━━━━━━━━━━━━━━━━━━╋━━━━━━━━━━━━━━━━━━━━╋━━━━━━━━━━━━━━━━━━━━━━━━━━━╋━━━━━━━━━━━━━━━━━━━━━━━━┫\n",
            "┃ PCA                             ┃           0.48879  ┃                  632.915  ┃               0.54718  ┃\n",
            "┣━━━━━━━━━━━━━━━━━━━━━━━━━━━━━━━━━╋━━━━━━━━━━━━━━━━━━━━╋━━━━━━━━━━━━━━━━━━━━━━━━━━━╋━━━━━━━━━━━━━━━━━━━━━━━━┫\n",
            "┃ Transform + Normalization       ┃           0.374846 ┃                  167.267  ┃               0.820734 ┃\n",
            "┣━━━━━━━━━━━━━━━━━━━━━━━━━━━━━━━━━╋━━━━━━━━━━━━━━━━━━━━╋━━━━━━━━━━━━━━━━━━━━━━━━━━━╋━━━━━━━━━━━━━━━━━━━━━━━━┫\n",
            "┃ Transform + Normalization + PCA ┃           0.439752 ┃                  325.587  ┃               0.810235 ┃\n",
            "┗━━━━━━━━━━━━━━━━━━━━━━━━━━━━━━━━━┻━━━━━━━━━━━━━━━━━━━━┻━━━━━━━━━━━━━━━━━━━━━━━━━━━┻━━━━━━━━━━━━━━━━━━━━━━━━┛\n"
          ]
        }
      ],
      "source": [
        "results_data = []\n",
        "\n",
        "# KMeans clustering with different preprocessing techniques\n",
        "preprocessing_techniques = {\n",
        "    \"No Preprocessing\": X,\n",
        "    \"Normalization\": MinMaxScaler().fit_transform(X),\n",
        "    \"PCA\": PCA(n_components=2).fit_transform(X),\n",
        "    \"Transform + Normalization\": MinMaxScaler().fit_transform(PCA(n_components=2).fit_transform(X)),\n",
        "    \"Transform + Normalization + PCA\": PCA(n_components=2).fit_transform(MinMaxScaler().fit_transform(X))\n",
        "}\n",
        "\n",
        "for technique, data in preprocessing_techniques.items():\n",
        "    # Perform KMeans clustering\n",
        "    clustering = KMeans(n_clusters=5, n_init='auto')\n",
        "    labels = clustering.fit_predict(data)\n",
        "\n",
        "    # Calculate evaluation metrics\n",
        "    silhouette = silhouette_score(data, labels)\n",
        "    calinski_harabasz = calinski_harabasz_score(data, labels)\n",
        "    davies_bouldin = davies_bouldin_score(data, labels)\n",
        "\n",
        "    # Append results to the list\n",
        "    results_data.append([technique, silhouette, calinski_harabasz, davies_bouldin])\n",
        "\n",
        "# Table headers\n",
        "headers = [\"Preprocessing Technique\", \"Silhouette Score\", \"Calinski-Harabasz Score\", \"Davies-Bouldin Score\"]\n",
        "\n",
        "# Display the table\n",
        "print(tabulate(results_data, headers=headers,tablefmt='heavy_grid'))"
      ]
    },
    {
      "cell_type": "markdown",
      "metadata": {
        "id": "8TbzTyOeQ48O"
      },
      "source": [
        "## Hierarchial Clustering"
      ]
    },
    {
      "cell_type": "markdown",
      "metadata": {
        "id": "Cz1kpCuMQ48O"
      },
      "source": [
        "#### N = 3"
      ]
    },
    {
      "cell_type": "code",
      "execution_count": 96,
      "metadata": {
        "colab": {
          "base_uri": "https://localhost:8080/"
        },
        "id": "bkZVPMYvQ48O",
        "outputId": "c0cdf868-33d0-4777-ea54-aa08cf51381e"
      },
      "outputs": [
        {
          "output_type": "stream",
          "name": "stdout",
          "text": [
            "┏━━━━━━━━━━━━━━━━━━━━━━━━━━━━━━━━━┳━━━━━━━━━━━━━━━━━━━━┳━━━━━━━━━━━━━━━━━━━━━━━━━━━┳━━━━━━━━━━━━━━━━━━━━━━━━┓\n",
            "┃ Preprocessing Technique         ┃   Silhouette Score ┃   Calinski-Harabasz Score ┃   Davies-Bouldin Score ┃\n",
            "┣━━━━━━━━━━━━━━━━━━━━━━━━━━━━━━━━━╋━━━━━━━━━━━━━━━━━━━━╋━━━━━━━━━━━━━━━━━━━━━━━━━━━╋━━━━━━━━━━━━━━━━━━━━━━━━┫\n",
            "┃ No Preprocessing                ┃           0.56448  ┃                  552.852  ┃               0.535734 ┃\n",
            "┣━━━━━━━━━━━━━━━━━━━━━━━━━━━━━━━━━╋━━━━━━━━━━━━━━━━━━━━╋━━━━━━━━━━━━━━━━━━━━━━━━━━━╋━━━━━━━━━━━━━━━━━━━━━━━━┫\n",
            "┃ Normalization                   ┃           0.294829 ┃                   81.3276 ┃               1.31831  ┃\n",
            "┣━━━━━━━━━━━━━━━━━━━━━━━━━━━━━━━━━╋━━━━━━━━━━━━━━━━━━━━╋━━━━━━━━━━━━━━━━━━━━━━━━━━━╋━━━━━━━━━━━━━━━━━━━━━━━━┫\n",
            "┃ PCA                             ┃           0.565581 ┃                  553.532  ┃               0.534284 ┃\n",
            "┣━━━━━━━━━━━━━━━━━━━━━━━━━━━━━━━━━╋━━━━━━━━━━━━━━━━━━━━╋━━━━━━━━━━━━━━━━━━━━━━━━━━━╋━━━━━━━━━━━━━━━━━━━━━━━━┫\n",
            "┃ Transform + Normalization       ┃           0.488274 ┃                  185.199  ┃               0.732087 ┃\n",
            "┣━━━━━━━━━━━━━━━━━━━━━━━━━━━━━━━━━╋━━━━━━━━━━━━━━━━━━━━╋━━━━━━━━━━━━━━━━━━━━━━━━━━━╋━━━━━━━━━━━━━━━━━━━━━━━━┫\n",
            "┃ Transform + Normalization + PCA ┃           0.543327 ┃                  339.195  ┃               0.614154 ┃\n",
            "┗━━━━━━━━━━━━━━━━━━━━━━━━━━━━━━━━━┻━━━━━━━━━━━━━━━━━━━━┻━━━━━━━━━━━━━━━━━━━━━━━━━━━┻━━━━━━━━━━━━━━━━━━━━━━━━┛\n"
          ]
        }
      ],
      "source": [
        "results_data = []\n",
        "\n",
        "preprocessing_techniques = {\n",
        "    \"No Preprocessing\": X,\n",
        "    \"Normalization\": MinMaxScaler().fit_transform(X),\n",
        "    \"PCA\": PCA(n_components=2).fit_transform(X),\n",
        "    \"Transform + Normalization\": MinMaxScaler().fit_transform(PCA(n_components=2).fit_transform(X)),\n",
        "    \"Transform + Normalization + PCA\": PCA(n_components=2).fit_transform(MinMaxScaler().fit_transform(X))\n",
        "}\n",
        "\n",
        "for technique, data in preprocessing_techniques.items():\n",
        "\n",
        "    clustering = AgglomerativeClustering(n_clusters=3)\n",
        "    labels = clustering.fit_predict(data)\n",
        "\n",
        "    # Calculate evaluation metrics\n",
        "    silhouette = silhouette_score(data, labels)\n",
        "    calinski_harabasz = calinski_harabasz_score(data, labels)\n",
        "    davies_bouldin = davies_bouldin_score(data, labels)\n",
        "\n",
        "    # Append results to the list\n",
        "    results_data.append([technique, silhouette, calinski_harabasz, davies_bouldin])\n",
        "\n",
        "# Table headers\n",
        "headers = [\"Preprocessing Technique\", \"Silhouette Score\", \"Calinski-Harabasz Score\", \"Davies-Bouldin Score\"]\n",
        "\n",
        "# Display the table\n",
        "print(tabulate(results_data, headers=headers,tablefmt='heavy_grid'))"
      ]
    },
    {
      "cell_type": "markdown",
      "metadata": {
        "id": "IpJVICyuQ48O"
      },
      "source": [
        "#### N = 4"
      ]
    },
    {
      "cell_type": "code",
      "execution_count": 97,
      "metadata": {
        "colab": {
          "base_uri": "https://localhost:8080/"
        },
        "id": "BvNqYdk1Q48P",
        "outputId": "9647490f-d39d-4305-ab2c-3ce23db7c62f"
      },
      "outputs": [
        {
          "output_type": "stream",
          "name": "stdout",
          "text": [
            "┏━━━━━━━━━━━━━━━━━━━━━━━━━━━━━━━━━┳━━━━━━━━━━━━━━━━━━━━┳━━━━━━━━━━━━━━━━━━━━━━━━━━━┳━━━━━━━━━━━━━━━━━━━━━━━━┓\n",
            "┃ Preprocessing Technique         ┃   Silhouette Score ┃   Calinski-Harabasz Score ┃   Davies-Bouldin Score ┃\n",
            "┣━━━━━━━━━━━━━━━━━━━━━━━━━━━━━━━━━╋━━━━━━━━━━━━━━━━━━━━╋━━━━━━━━━━━━━━━━━━━━━━━━━━━╋━━━━━━━━━━━━━━━━━━━━━━━━┫\n",
            "┃ No Preprocessing                ┃           0.560673 ┃                  670.626  ┃               0.553574 ┃\n",
            "┣━━━━━━━━━━━━━━━━━━━━━━━━━━━━━━━━━╋━━━━━━━━━━━━━━━━━━━━╋━━━━━━━━━━━━━━━━━━━━━━━━━━━╋━━━━━━━━━━━━━━━━━━━━━━━━┫\n",
            "┃ Normalization                   ┃           0.248703 ┃                   63.5149 ┃               1.75287  ┃\n",
            "┣━━━━━━━━━━━━━━━━━━━━━━━━━━━━━━━━━╋━━━━━━━━━━━━━━━━━━━━╋━━━━━━━━━━━━━━━━━━━━━━━━━━━╋━━━━━━━━━━━━━━━━━━━━━━━━┫\n",
            "┃ PCA                             ┃           0.56192  ┃                  672.023  ┃               0.55233  ┃\n",
            "┣━━━━━━━━━━━━━━━━━━━━━━━━━━━━━━━━━╋━━━━━━━━━━━━━━━━━━━━╋━━━━━━━━━━━━━━━━━━━━━━━━━━━╋━━━━━━━━━━━━━━━━━━━━━━━━┫\n",
            "┃ Transform + Normalization       ┃           0.43544  ┃                  162.015  ┃               0.855049 ┃\n",
            "┣━━━━━━━━━━━━━━━━━━━━━━━━━━━━━━━━━╋━━━━━━━━━━━━━━━━━━━━╋━━━━━━━━━━━━━━━━━━━━━━━━━━━╋━━━━━━━━━━━━━━━━━━━━━━━━┫\n",
            "┃ Transform + Normalization + PCA ┃           0.479548 ┃                  336.884  ┃               0.737687 ┃\n",
            "┗━━━━━━━━━━━━━━━━━━━━━━━━━━━━━━━━━┻━━━━━━━━━━━━━━━━━━━━┻━━━━━━━━━━━━━━━━━━━━━━━━━━━┻━━━━━━━━━━━━━━━━━━━━━━━━┛\n"
          ]
        }
      ],
      "source": [
        "results_data = []\n",
        "\n",
        "# Hierarchical Clustering with different preprocessing techniques\n",
        "preprocessing_techniques = {\n",
        "    \"No Preprocessing\": X,\n",
        "    \"Normalization\": MinMaxScaler().fit_transform(X),\n",
        "    \"PCA\": PCA(n_components=2).fit_transform(X),\n",
        "    \"Transform + Normalization\": MinMaxScaler().fit_transform(PCA(n_components=2).fit_transform(X)),\n",
        "    \"Transform + Normalization + PCA\": PCA(n_components=2).fit_transform(MinMaxScaler().fit_transform(X))\n",
        "}\n",
        "\n",
        "for technique, data in preprocessing_techniques.items():\n",
        "    # Perform hierarchical clustering\n",
        "    clustering = AgglomerativeClustering(n_clusters=4)\n",
        "    labels = clustering.fit_predict(data)\n",
        "\n",
        "    # Calculate evaluation metrics\n",
        "    silhouette = silhouette_score(data, labels)\n",
        "    calinski_harabasz = calinski_harabasz_score(data, labels)\n",
        "    davies_bouldin = davies_bouldin_score(data, labels)\n",
        "\n",
        "    # Append results to the list\n",
        "    results_data.append([technique, silhouette, calinski_harabasz, davies_bouldin])\n",
        "\n",
        "# Table headers\n",
        "headers = [\"Preprocessing Technique\", \"Silhouette Score\", \"Calinski-Harabasz Score\", \"Davies-Bouldin Score\"]\n",
        "\n",
        "# Display the table\n",
        "print(tabulate(results_data, headers=headers,tablefmt='heavy_grid'))"
      ]
    },
    {
      "cell_type": "markdown",
      "metadata": {
        "id": "z4TzM88YQ48P"
      },
      "source": [
        "#### N = 5"
      ]
    },
    {
      "cell_type": "code",
      "execution_count": 98,
      "metadata": {
        "colab": {
          "base_uri": "https://localhost:8080/"
        },
        "id": "lHRbS3k5Q48P",
        "outputId": "a131b428-bdcd-4b96-e317-83a6cf2a96e7"
      },
      "outputs": [
        {
          "output_type": "stream",
          "name": "stdout",
          "text": [
            "┏━━━━━━━━━━━━━━━━━━━━━━━━━━━━━━━━━┳━━━━━━━━━━━━━━━━━━━━┳━━━━━━━━━━━━━━━━━━━━━━━━━━━┳━━━━━━━━━━━━━━━━━━━━━━━━┓\n",
            "┃ Preprocessing Technique         ┃   Silhouette Score ┃   Calinski-Harabasz Score ┃   Davies-Bouldin Score ┃\n",
            "┣━━━━━━━━━━━━━━━━━━━━━━━━━━━━━━━━━╋━━━━━━━━━━━━━━━━━━━━╋━━━━━━━━━━━━━━━━━━━━━━━━━━━╋━━━━━━━━━━━━━━━━━━━━━━━━┫\n",
            "┃ No Preprocessing                ┃           0.507484 ┃                   684.223 ┃               0.551315 ┃\n",
            "┣━━━━━━━━━━━━━━━━━━━━━━━━━━━━━━━━━╋━━━━━━━━━━━━━━━━━━━━╋━━━━━━━━━━━━━━━━━━━━━━━━━━━╋━━━━━━━━━━━━━━━━━━━━━━━━┫\n",
            "┃ Normalization                   ┃           0.204154 ┃                    52.277 ┃               1.93678  ┃\n",
            "┣━━━━━━━━━━━━━━━━━━━━━━━━━━━━━━━━━╋━━━━━━━━━━━━━━━━━━━━╋━━━━━━━━━━━━━━━━━━━━━━━━━━━╋━━━━━━━━━━━━━━━━━━━━━━━━┫\n",
            "┃ PCA                             ┃           0.500913 ┃                   685.285 ┃               0.556345 ┃\n",
            "┣━━━━━━━━━━━━━━━━━━━━━━━━━━━━━━━━━╋━━━━━━━━━━━━━━━━━━━━╋━━━━━━━━━━━━━━━━━━━━━━━━━━━╋━━━━━━━━━━━━━━━━━━━━━━━━┫\n",
            "┃ Transform + Normalization       ┃           0.290971 ┃                   153.764 ┃               0.972148 ┃\n",
            "┣━━━━━━━━━━━━━━━━━━━━━━━━━━━━━━━━━╋━━━━━━━━━━━━━━━━━━━━╋━━━━━━━━━━━━━━━━━━━━━━━━━━━╋━━━━━━━━━━━━━━━━━━━━━━━━┫\n",
            "┃ Transform + Normalization + PCA ┃           0.447246 ┃                   337.009 ┃               0.757651 ┃\n",
            "┗━━━━━━━━━━━━━━━━━━━━━━━━━━━━━━━━━┻━━━━━━━━━━━━━━━━━━━━┻━━━━━━━━━━━━━━━━━━━━━━━━━━━┻━━━━━━━━━━━━━━━━━━━━━━━━┛\n"
          ]
        }
      ],
      "source": [
        "results_data = []\n",
        "\n",
        "# Hierarchical Clustering with different preprocessing techniques\n",
        "preprocessing_techniques = {\n",
        "    \"No Preprocessing\": X,\n",
        "    \"Normalization\": MinMaxScaler().fit_transform(X),\n",
        "    \"PCA\": PCA(n_components=2).fit_transform(X),\n",
        "    \"Transform + Normalization\": MinMaxScaler().fit_transform(PCA(n_components=2).fit_transform(X)),\n",
        "    \"Transform + Normalization + PCA\": PCA(n_components=2).fit_transform(MinMaxScaler().fit_transform(X))\n",
        "}\n",
        "\n",
        "for technique, data in preprocessing_techniques.items():\n",
        "    # Perform hierarchical clustering\n",
        "    clustering = AgglomerativeClustering(n_clusters=5)\n",
        "    labels = clustering.fit_predict(data)\n",
        "\n",
        "    # Calculate evaluation metrics\n",
        "    silhouette = silhouette_score(data, labels)\n",
        "    calinski_harabasz = calinski_harabasz_score(data, labels)\n",
        "    davies_bouldin = davies_bouldin_score(data, labels)\n",
        "\n",
        "    # Append results to the list\n",
        "    results_data.append([technique, silhouette, calinski_harabasz, davies_bouldin])\n",
        "\n",
        "# Table headers\n",
        "headers = [\"Preprocessing Technique\", \"Silhouette Score\", \"Calinski-Harabasz Score\", \"Davies-Bouldin Score\"]\n",
        "\n",
        "# Display the table\n",
        "print(tabulate(results_data, headers=headers,tablefmt='heavy_grid'))"
      ]
    },
    {
      "cell_type": "markdown",
      "metadata": {
        "id": "346enGmOQ48R"
      },
      "source": [
        "## Spectral Clustering"
      ]
    },
    {
      "cell_type": "markdown",
      "metadata": {
        "id": "Yydnsde_Q48R"
      },
      "source": [
        "#### N = 3"
      ]
    },
    {
      "cell_type": "code",
      "execution_count": 99,
      "metadata": {
        "colab": {
          "base_uri": "https://localhost:8080/"
        },
        "id": "_22fO-1SQ48R",
        "outputId": "d52d8771-85f3-4dcb-b96d-b327c5e98d21"
      },
      "outputs": [
        {
          "output_type": "stream",
          "name": "stdout",
          "text": [
            "┏━━━━━━━━━━━━━━━━━━━━━━━━━━━━━━━━━┳━━━━━━━━━━━━━━━━━━━━┳━━━━━━━━━━━━━━━━━━━━━━━━━━━┳━━━━━━━━━━━━━━━━━━━━━━━━┓\n",
            "┃ Preprocessing Technique         ┃   Silhouette Score ┃   Calinski-Harabasz Score ┃   Davies-Bouldin Score ┃\n",
            "┣━━━━━━━━━━━━━━━━━━━━━━━━━━━━━━━━━╋━━━━━━━━━━━━━━━━━━━━╋━━━━━━━━━━━━━━━━━━━━━━━━━━━╋━━━━━━━━━━━━━━━━━━━━━━━━┫\n",
            "┃ No Preprocessing                ┃           0.280348 ┃                   3.3691  ┃               0.447723 ┃\n",
            "┣━━━━━━━━━━━━━━━━━━━━━━━━━━━━━━━━━╋━━━━━━━━━━━━━━━━━━━━╋━━━━━━━━━━━━━━━━━━━━━━━━━━━╋━━━━━━━━━━━━━━━━━━━━━━━━┫\n",
            "┃ Normalization                   ┃           0.299876 ┃                  82.8284  ┃               1.31162  ┃\n",
            "┣━━━━━━━━━━━━━━━━━━━━━━━━━━━━━━━━━╋━━━━━━━━━━━━━━━━━━━━╋━━━━━━━━━━━━━━━━━━━━━━━━━━━╋━━━━━━━━━━━━━━━━━━━━━━━━┫\n",
            "┃ PCA                             ┃          -0.067969 ┃                   1.98697 ┃               0.84763  ┃\n",
            "┣━━━━━━━━━━━━━━━━━━━━━━━━━━━━━━━━━╋━━━━━━━━━━━━━━━━━━━━╋━━━━━━━━━━━━━━━━━━━━━━━━━━━╋━━━━━━━━━━━━━━━━━━━━━━━━┫\n",
            "┃ Transform + Normalization       ┃           0.474166 ┃                 192.026   ┃               0.825857 ┃\n",
            "┣━━━━━━━━━━━━━━━━━━━━━━━━━━━━━━━━━╋━━━━━━━━━━━━━━━━━━━━╋━━━━━━━━━━━━━━━━━━━━━━━━━━━╋━━━━━━━━━━━━━━━━━━━━━━━━┫\n",
            "┃ Transform + Normalization + PCA ┃           0.566225 ┃                 370.315   ┃               0.587896 ┃\n",
            "┗━━━━━━━━━━━━━━━━━━━━━━━━━━━━━━━━━┻━━━━━━━━━━━━━━━━━━━━┻━━━━━━━━━━━━━━━━━━━━━━━━━━━┻━━━━━━━━━━━━━━━━━━━━━━━━┛\n"
          ]
        }
      ],
      "source": [
        "results_data = []\n",
        "\n",
        "# Spectral clustering with different preprocessing techniques\n",
        "preprocessing_techniques = {\n",
        "    \"No Preprocessing\": X,\n",
        "    \"Normalization\": MinMaxScaler().fit_transform(X),\n",
        "    \"PCA\": PCA(n_components=2).fit_transform(X),\n",
        "    \"Transform + Normalization\": MinMaxScaler().fit_transform(PCA(n_components=2).fit_transform(X)),\n",
        "    \"Transform + Normalization + PCA\": PCA(n_components=2).fit_transform(MinMaxScaler().fit_transform(X))\n",
        "}\n",
        "\n",
        "for technique, data in preprocessing_techniques.items():\n",
        "    # Perform Spectral clustering\n",
        "    clustering = SpectralClustering(n_clusters=3)\n",
        "    labels = clustering.fit_predict(data)\n",
        "\n",
        "    # Calculate evaluation metrics\n",
        "    silhouette = silhouette_score(data, labels)\n",
        "    calinski_harabasz = calinski_harabasz_score(data, labels)\n",
        "    davies_bouldin = davies_bouldin_score(data, labels)\n",
        "\n",
        "    # Append results to the list\n",
        "    results_data.append([technique, silhouette, calinski_harabasz, davies_bouldin])\n",
        "\n",
        "# Table headers\n",
        "headers = [\"Preprocessing Technique\", \"Silhouette Score\", \"Calinski-Harabasz Score\", \"Davies-Bouldin Score\"]\n",
        "\n",
        "# Display the table\n",
        "print(tabulate(results_data, headers=headers,tablefmt='heavy_grid'))"
      ]
    },
    {
      "cell_type": "markdown",
      "metadata": {
        "id": "zRSroo0BQ48S"
      },
      "source": [
        "#### N = 4"
      ]
    },
    {
      "cell_type": "code",
      "execution_count": 100,
      "metadata": {
        "colab": {
          "base_uri": "https://localhost:8080/"
        },
        "id": "-u130NpzQ48S",
        "outputId": "5136fef3-d240-465d-8ac1-8592efa613ee"
      },
      "outputs": [
        {
          "output_type": "stream",
          "name": "stdout",
          "text": [
            "┏━━━━━━━━━━━━━━━━━━━━━━━━━━━━━━━━━┳━━━━━━━━━━━━━━━━━━━━┳━━━━━━━━━━━━━━━━━━━━━━━━━━━┳━━━━━━━━━━━━━━━━━━━━━━━━┓\n",
            "┃ Preprocessing Technique         ┃   Silhouette Score ┃   Calinski-Harabasz Score ┃   Davies-Bouldin Score ┃\n",
            "┣━━━━━━━━━━━━━━━━━━━━━━━━━━━━━━━━━╋━━━━━━━━━━━━━━━━━━━━╋━━━━━━━━━━━━━━━━━━━━━━━━━━━╋━━━━━━━━━━━━━━━━━━━━━━━━┫\n",
            "┃ No Preprocessing                ┃           0.280348 ┃                   3.3691  ┃               0.447723 ┃\n",
            "┣━━━━━━━━━━━━━━━━━━━━━━━━━━━━━━━━━╋━━━━━━━━━━━━━━━━━━━━╋━━━━━━━━━━━━━━━━━━━━━━━━━━━╋━━━━━━━━━━━━━━━━━━━━━━━━┫\n",
            "┃ Normalization                   ┃           0.24971  ┃                  63.8306  ┃               1.71285  ┃\n",
            "┣━━━━━━━━━━━━━━━━━━━━━━━━━━━━━━━━━╋━━━━━━━━━━━━━━━━━━━━╋━━━━━━━━━━━━━━━━━━━━━━━━━━━╋━━━━━━━━━━━━━━━━━━━━━━━━┫\n",
            "┃ PCA                             ┃          -0.067969 ┃                   1.98697 ┃               0.84763  ┃\n",
            "┣━━━━━━━━━━━━━━━━━━━━━━━━━━━━━━━━━╋━━━━━━━━━━━━━━━━━━━━╋━━━━━━━━━━━━━━━━━━━━━━━━━━━╋━━━━━━━━━━━━━━━━━━━━━━━━┫\n",
            "┃ Transform + Normalization       ┃           0.311668 ┃                 133.263   ┃               0.897037 ┃\n",
            "┣━━━━━━━━━━━━━━━━━━━━━━━━━━━━━━━━━╋━━━━━━━━━━━━━━━━━━━━╋━━━━━━━━━━━━━━━━━━━━━━━━━━━╋━━━━━━━━━━━━━━━━━━━━━━━━┫\n",
            "┃ Transform + Normalization + PCA ┃           0.405519 ┃                 260.281   ┃               0.780152 ┃\n",
            "┗━━━━━━━━━━━━━━━━━━━━━━━━━━━━━━━━━┻━━━━━━━━━━━━━━━━━━━━┻━━━━━━━━━━━━━━━━━━━━━━━━━━━┻━━━━━━━━━━━━━━━━━━━━━━━━┛\n"
          ]
        }
      ],
      "source": [
        "results_data = []\n",
        "\n",
        "# Spectral clustering with different preprocessing techniques\n",
        "preprocessing_techniques = {\n",
        "    \"No Preprocessing\": X,\n",
        "    \"Normalization\": MinMaxScaler().fit_transform(X),\n",
        "    \"PCA\": PCA(n_components=2).fit_transform(X),\n",
        "    \"Transform + Normalization\": MinMaxScaler().fit_transform(PCA(n_components=2).fit_transform(X)),\n",
        "    \"Transform + Normalization + PCA\": PCA(n_components=2).fit_transform(MinMaxScaler().fit_transform(X))\n",
        "}\n",
        "\n",
        "for technique, data in preprocessing_techniques.items():\n",
        "    # Perform Spectral clustering\n",
        "    clustering = SpectralClustering(n_clusters=4)\n",
        "    labels = clustering.fit_predict(data)\n",
        "\n",
        "    # Calculate evaluation metrics\n",
        "    silhouette = silhouette_score(data, labels)\n",
        "    calinski_harabasz = calinski_harabasz_score(data, labels)\n",
        "    davies_bouldin = davies_bouldin_score(data, labels)\n",
        "\n",
        "    # Append results to the list\n",
        "    results_data.append([technique, silhouette, calinski_harabasz, davies_bouldin])\n",
        "\n",
        "# Table headers\n",
        "headers = [\"Preprocessing Technique\", \"Silhouette Score\", \"Calinski-Harabasz Score\", \"Davies-Bouldin Score\"]\n",
        "\n",
        "# Display the table\n",
        "print(tabulate(results_data, headers=headers,tablefmt='heavy_grid'))"
      ]
    },
    {
      "cell_type": "markdown",
      "metadata": {
        "id": "JkN7I0zQQ48S"
      },
      "source": [
        "#### N = 5"
      ]
    },
    {
      "cell_type": "code",
      "execution_count": 101,
      "metadata": {
        "colab": {
          "base_uri": "https://localhost:8080/"
        },
        "id": "DUlquDTcQ48S",
        "outputId": "8453268c-28d8-4b9a-d6c4-865de506ba5e"
      },
      "outputs": [
        {
          "output_type": "stream",
          "name": "stdout",
          "text": [
            "┏━━━━━━━━━━━━━━━━━━━━━━━━━━━━━━━━━┳━━━━━━━━━━━━━━━━━━━━┳━━━━━━━━━━━━━━━━━━━━━━━━━━━┳━━━━━━━━━━━━━━━━━━━━━━━━┓\n",
            "┃ Preprocessing Technique         ┃   Silhouette Score ┃   Calinski-Harabasz Score ┃   Davies-Bouldin Score ┃\n",
            "┣━━━━━━━━━━━━━━━━━━━━━━━━━━━━━━━━━╋━━━━━━━━━━━━━━━━━━━━╋━━━━━━━━━━━━━━━━━━━━━━━━━━━╋━━━━━━━━━━━━━━━━━━━━━━━━┫\n",
            "┃ No Preprocessing                ┃           0.280348 ┃                   3.3691  ┃               0.447723 ┃\n",
            "┣━━━━━━━━━━━━━━━━━━━━━━━━━━━━━━━━━╋━━━━━━━━━━━━━━━━━━━━╋━━━━━━━━━━━━━━━━━━━━━━━━━━━╋━━━━━━━━━━━━━━━━━━━━━━━━┫\n",
            "┃ Normalization                   ┃           0.226397 ┃                  52.4825  ┃               1.69517  ┃\n",
            "┣━━━━━━━━━━━━━━━━━━━━━━━━━━━━━━━━━╋━━━━━━━━━━━━━━━━━━━━╋━━━━━━━━━━━━━━━━━━━━━━━━━━━╋━━━━━━━━━━━━━━━━━━━━━━━━┫\n",
            "┃ PCA                             ┃          -0.067969 ┃                   1.98697 ┃               0.84763  ┃\n",
            "┣━━━━━━━━━━━━━━━━━━━━━━━━━━━━━━━━━╋━━━━━━━━━━━━━━━━━━━━╋━━━━━━━━━━━━━━━━━━━━━━━━━━━╋━━━━━━━━━━━━━━━━━━━━━━━━┫\n",
            "┃ Transform + Normalization       ┃           0.29213  ┃                 126.622   ┃               0.846376 ┃\n",
            "┣━━━━━━━━━━━━━━━━━━━━━━━━━━━━━━━━━╋━━━━━━━━━━━━━━━━━━━━╋━━━━━━━━━━━━━━━━━━━━━━━━━━━╋━━━━━━━━━━━━━━━━━━━━━━━━┫\n",
            "┃ Transform + Normalization + PCA ┃           0.2859   ┃                 153.31    ┃               0.966704 ┃\n",
            "┗━━━━━━━━━━━━━━━━━━━━━━━━━━━━━━━━━┻━━━━━━━━━━━━━━━━━━━━┻━━━━━━━━━━━━━━━━━━━━━━━━━━━┻━━━━━━━━━━━━━━━━━━━━━━━━┛\n"
          ]
        }
      ],
      "source": [
        "results_data = []\n",
        "\n",
        "# Spectral clustering with different preprocessing techniques\n",
        "preprocessing_techniques = {\n",
        "    \"No Preprocessing\": X,\n",
        "    \"Normalization\": MinMaxScaler().fit_transform(X),\n",
        "    \"PCA\": PCA(n_components=2).fit_transform(X),\n",
        "    \"Transform + Normalization\": MinMaxScaler().fit_transform(PCA(n_components=2).fit_transform(X)),\n",
        "    \"Transform + Normalization + PCA\": PCA(n_components=2).fit_transform(MinMaxScaler().fit_transform(X))\n",
        "}\n",
        "\n",
        "for technique, data in preprocessing_techniques.items():\n",
        "    # Perform Spectral clustering\n",
        "    clustering = SpectralClustering(n_clusters=5)\n",
        "    labels = clustering.fit_predict(data)\n",
        "\n",
        "    # Calculate evaluation metrics\n",
        "    silhouette = silhouette_score(data, labels)\n",
        "    calinski_harabasz = calinski_harabasz_score(data, labels)\n",
        "    davies_bouldin = davies_bouldin_score(data, labels)\n",
        "\n",
        "    # Append results to the list\n",
        "    results_data.append([technique, silhouette, calinski_harabasz, davies_bouldin])\n",
        "\n",
        "# Table headers\n",
        "headers = [\"Preprocessing Technique\", \"Silhouette Score\", \"Calinski-Harabasz Score\", \"Davies-Bouldin Score\"]\n",
        "\n",
        "# Display the table\n",
        "print(tabulate(results_data, headers=headers,tablefmt='heavy_grid'))"
      ]
    }
  ],
  "metadata": {
    "kernelspec": {
      "display_name": "ai",
      "language": "python",
      "name": "python3"
    },
    "language_info": {
      "codemirror_mode": {
        "name": "ipython",
        "version": 3
      },
      "file_extension": ".py",
      "mimetype": "text/x-python",
      "name": "python",
      "nbconvert_exporter": "python",
      "pygments_lexer": "ipython3",
      "version": "3.10.13"
    },
    "colab": {
      "provenance": []
    }
  },
  "nbformat": 4,
  "nbformat_minor": 0
}